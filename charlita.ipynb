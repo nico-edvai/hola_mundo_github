{
  "nbformat": 4,
  "nbformat_minor": 0,
  "metadata": {
    "colab": {
      "name": "charlita.ipynb",
      "provenance": [],
      "mount_file_id": "1IVzXyq72LU7jVEUz8DyludlabHP53jfF",
      "authorship_tag": "ABX9TyPKlsqmCEo4v3LcPL7iCVM5",
      "include_colab_link": true
    },
    "kernelspec": {
      "name": "python3",
      "display_name": "Python 3"
    },
    "language_info": {
      "name": "python"
    }
  },
  "cells": [
    {
      "cell_type": "markdown",
      "metadata": {
        "id": "view-in-github",
        "colab_type": "text"
      },
      "source": [
        "<a href=\"https://colab.research.google.com/github/nico-edvai/hola_mundo_github/blob/main/charlita.ipynb\" target=\"_parent\"><img src=\"https://colab.research.google.com/assets/colab-badge.svg\" alt=\"Open In Colab\"/></a>"
      ]
    },
    {
      "cell_type": "code",
      "execution_count": 1,
      "metadata": {
        "id": "O6OjCNda-QD8"
      },
      "outputs": [],
      "source": [
        "def funcion():\n",
        "  print(\"hola mundo\")\n",
        "  asdsad\n",
        "  asdasdasd\n",
        "  asdasdasd\n",
        "  asdasd\n",
        "  asd\n",
        "  print(\"Hola Nico\")\n",
        "  print(\"Hola Nico\")\n",
        "  print(\"Hola Nico\")\n",
        "  print(\"Hola Nico\")\n",
        "  print(\"Hola Nico\")\n",
        "  print(\"Hola Nico\")\n",
        "  print(\"Hola Nico\")\n",
        "  print(\"Hola Nico\")\n"
      ]
    },
    {
      "cell_type": "markdown",
      "source": [
        "# TÍTULO 1\n",
        "## Título 2\n",
        "### Título 3"
      ],
      "metadata": {
        "id": "1szezPe_D_Ih"
      }
    },
    {
      "cell_type": "code",
      "source": [
        ""
      ],
      "metadata": {
        "id": "uzlAOf-WDXaN"
      },
      "execution_count": null,
      "outputs": []
    },
    {
      "cell_type": "markdown",
      "source": [
        "# seccion 2"
      ],
      "metadata": {
        "id": "7CEdsTZOEIRV"
      }
    },
    {
      "cell_type": "code",
      "source": [
        ""
      ],
      "metadata": {
        "id": "fDJ_7CcKELDz"
      },
      "execution_count": null,
      "outputs": []
    }
  ]
}