{
  "nbformat": 4,
  "nbformat_minor": 0,
  "metadata": {
    "colab": {
      "name": "charlita.ipynb",
      "provenance": [],
      "mount_file_id": "1IVzXyq72LU7jVEUz8DyludlabHP53jfF",
      "authorship_tag": "ABX9TyMD1J8A2ZANiUjQQAEjtvCt",
      "include_colab_link": true
    },
    "kernelspec": {
      "name": "python3",
      "display_name": "Python 3"
    },
    "language_info": {
      "name": "python"
    }
  },
  "cells": [
    {
      "cell_type": "markdown",
      "metadata": {
        "id": "view-in-github",
        "colab_type": "text"
      },
      "source": [
        "<a href=\"https://colab.research.google.com/github/nico-edvai/hola_mundo_github/blob/main/charlita.ipynb\" target=\"_parent\"><img src=\"https://colab.research.google.com/assets/colab-badge.svg\" alt=\"Open In Colab\"/></a>"
      ]
    },
    {
      "cell_type": "code",
      "execution_count": 1,
      "metadata": {
        "id": "O6OjCNda-QD8"
      },
      "outputs": [],
      "source": [
        "def funcion():\n",
        "  print(\"hola mundo\")\n",
        "  asdsad\n",
        "  asdasdasd\n",
        "  asdasdasd\n",
        "  asdasd\n",
        "  asd\n",
        "  print(\"Hola Nico\")\n",
        "  print(\"Hola Nico\")\n",
        "  print(\"Hola Nico\")\n",
        "  print(\"Hola Nico\")\n",
        "  print(\"Hola Nico\")\n",
        "  print(\"Hola Nico\")\n",
        "  print(\"Hola Nico\")\n",
        "  print(\"Hola Nico\")\n"
      ]
    },
    {
      "cell_type": "markdown",
      "source": [
        "# TÍTULO 1\n",
        "## Título 2\n",
        "### Título 3"
      ],
      "metadata": {
        "id": "1szezPe_D_Ih"
      }
    },
    {
      "cell_type": "code",
      "source": [
        ""
      ],
      "metadata": {
        "id": "uzlAOf-WDXaN"
      },
      "execution_count": null,
      "outputs": []
    },
    {
      "cell_type": "markdown",
      "source": [
        "# seccion 2"
      ],
      "metadata": {
        "id": "7CEdsTZOEIRV"
      }
    },
    {
      "cell_type": "code",
      "source": [
        "import pandas as pd \n",
        "resultados_cmff = pd.read_csv(\"https://raw.githubusercontent.com/nico-edvai/challenge_01/main/resultados_cmff.csv\")\n",
        "print(resultados_cmff)"
      ],
      "metadata": {
        "colab": {
          "base_uri": "https://localhost:8080/"
        },
        "id": "fDJ_7CcKELDz",
        "outputId": "5f2640b1-74d7-4e08-a363-80408e7d5f33"
      },
      "execution_count": 2,
      "outputs": [
        {
          "output_type": "stream",
          "name": "stdout",
          "text": [
            "     anio                   equipo codigo_pais           ronda resultado  \\\n",
            "0    1991  República Popular China         CHN  Fase de grupos  Victoria   \n",
            "1    1991                  Noruega         NOR  Fase de grupos   Derrota   \n",
            "2    1991                Dinamarca         DEN  Fase de grupos  Victoria   \n",
            "3    1991            Nueva Zelanda         NZL  Fase de grupos   Derrota   \n",
            "4    1991                    Japón         JPN  Fase de grupos   Derrota   \n",
            "..    ...                      ...         ...             ...       ...   \n",
            "563  2019                   Suecia         SWE     Semifinales   Derrota   \n",
            "564  2019               Inglaterra         ENG    Tercer lugar   Derrota   \n",
            "565  2019                   Suecia         SWE    Tercer lugar  Victoria   \n",
            "566  2019           Estados Unidos         USA           Final  Victoria   \n",
            "567  2019             Países Bajos         NED           Final   Derrota   \n",
            "\n",
            "     goles  id_partido_anio  numero_equipo  \n",
            "0        4                1              1  \n",
            "1        0                1              2  \n",
            "2        3                2              1  \n",
            "3        0                2              2  \n",
            "4        0                3              1  \n",
            "..     ...              ...            ...  \n",
            "563      0               50              2  \n",
            "564      1               51              1  \n",
            "565      2               51              2  \n",
            "566      2               52              1  \n",
            "567      0               52              2  \n",
            "\n",
            "[568 rows x 8 columns]\n"
          ]
        }
      ]
    },
    {
      "cell_type": "markdown",
      "source": [
        "![](data:image/png;base64,iVBORw0KGgoAAAANSUhEUgAAASkAAACqCAMAAADGFElyAAACQFBMVEUAaEfOESb///8AWC7KAAD5qlEAAAD6+vj8rVKQRiD6+veOQx2NRSD9/v/Mzq4zAADu7+ecoWjwwjvNz7Wan2MAhIkAfYLnlkmfpGyPlVTb3t/MmlvYrGzv8fKpbD07KCA9JhktIhyCPBpsOSChb0JLKRTo6OEAFx+DQiCKNAAmIR3jsxm4uZGbVixsSC5FIQ1mbRLDxa9zcG5aLxagoaFOLh4AY2SEikUvw93ei0Rnb3nb3c6Jj0htcyyQlVrSzs2gh4GpnJm/ubnXyr3LtaeSRgDCjVCxdTyXeG60gD+bYji4gEt+MwCvl4+cd0pvMxbAsZ6TTACnZxm3eTKJYTd7VEW0lnPmxJqwfl+mYQB/Xz7Xs40XHiDg0ayxg1myd0W4j1nIkU2RdU5AOCz+3a8wEw8QDhd9UDDajFumYCOFhoawj1yhWSjKil61b01ZMR2OWiWBaEX87sfv0ZD93439zDWzt4TFq0rBhRjhr0qATBmionnTuVXgtCtsUTjyyGKRbipgJABZRS2HfXBAEgCUZUxnUEQpBgC5rYe9k4PaxIyPTy9tGQBJBQDZvnFOKgz60NYiDQ3znpzsZyHudABqWSjwbFj1jKKagCxXRj/yhID6wcrQnSdmNwDvgJLD29mnhBJCR1P8ZX7AdIRXrK6AqqnvhTlfjo/xe1aGsrH5rrpFZ2TKoKcAOziPcX9tiIb9xhM1MR19rszG2ec8lLznxrbisZVnu9jEYiU1latYfY2toEWd0eV/qJbZWmNOjXYeLotHAAAMuklEQVR4nO3c+1caVx4A8OxtFHmZ4aEywMDICBIdBMRhdKdA1QQiJJJVkjbGt0kpxi4WI9mIxDzbRBtj0m7TNGntA8ua7G66sdtuWtv91/bewWwfiWa75+QX5l5zZMCZOYfP+X6/93svnOza9cLHS+DFj92/e+HjxUNhKSyFpbAUlsJSWApLYSkshaWwFJbCUlgKS2EpLIWlsBSWwlJYCkthKSyFpbAUlsJSWApLYSkshaWwFJbCUlgKS2EpLIWlsBSWwlJYCkthKSyFpbAUlsJSWApLYSlJSoVeOfBKZ5cRS+08qO59+00mUziy33agS42ltofqCY+4zHBEYyNT+w8eorDUMwaKoH2m3pa43GKxNDCuqEWuPNiJpZ4ehxXdIPSHvv4ExyiVShXToIwpY3uPhELPLVnSkuqmjr76GgXr1GvH+nvSKhVjbeQGlCMqZTjy3BSUipQM/drX3R01uXr6jwtE6FikYUApVw020Vwiau7t3YelEJPOMIQehkdNI+HoqGlsbJzq7uuLjajkVrqedieaJsx7DzxnEpSClKy6WncCPh4eM4dNTrM5Ehk/Wak+1pMw2RjaamtI9qatryctyZ2ppCDFVrMOAube2BujjDyRSJgiKcY32deXGkXpZ1WNNtptXOOpqSM7UklBypDVAZ0i1P/mHw/a0s6pSKQnlXK6I5HpUZdK1UQz8rfq7SquMbn3gNSlqrNZlgDHM8dfGz4edU71LJn6U8o5ui/S63Iy9XanZSAOqdJNiamdGispSOlY1uGYyZye1eZnta/MjUyNmWJT0y39fbGoUl5ff2PAJodUcvuEa+8OXZUUpISsgT2TWWjO9/zprOAIm/vNpvGJlsb+uVGXU2WlmYZGp5yx+lT2tPKItKUU+lzuTObMfD7fDcCr5lFTwnzO6mpMJcJKp5VuGG/hBhmVj3bG6d79XZKWAjJC4Vg4y843LwJwPGwJ9yblVlX9QEypkrcMOt9yq+xWuYqzy9MtLkbaUqLWq4dzZ+cBFTZbYg0WOa3yLSnl8XSyN3rRCmsUp4zT8Qb30t6Q5KUA8ObOXwXHTWaTKTZi81mdPpUc9ggNnDJJp13ucxafO5b2bV+ppCPlZdnzCtnwKfMps+WcPN1E0yqGHjg53Oi0JJlRS9K1pLIk3Kptg6rMpYQnbbcil2WDBFAnkuM+0zlubpCj7XGOdp1KDviGzSpX+NRIy7nhxEBUmZSk1HJzfkHcRRByLGyq4NIvNTKsHE0o5+o5u72eiVs4myVpM517K2yfiDhfT3Hjoy7u2Rsw5S7VvMgKEAo6wTYdgGmL2aI0W1xztN3O0VxDy5zTNBoNJ0/Oxelwyt7j9LlvbpN+5S2lGJpZhstjEDRkc+i5LBI1hZWmGFwi22m6nmacKXk0dnJiyj2Qcvem4r2ptOVCmxSl0NBV6xxsda705GgMLmRM5si0ytcU5+xpW2pqqWXKGlPRPfGLKdVEv89pa5WuVLUQzB4uPemK9Jj6p8090/UMbMrphoi5e298PEVPxy9OuRklnYhzKqtEpWQQSshd3ZKi+lLmnsRFk4+moxejvljvJdC99O7koctXLrztpK/YBt92q96RqJRQzQIHe/V86Zn6KOcyR91NUdrdy5hcI9abRgCuMeDQ5IHWfRfalCepPU7JSrHVAGSzfT2Li/NnF9WgU8W0xOlz0TQTa0i+VX8D1e8lozpOtTje7Vq6DvY4pZp9gk6nA91sT19/XqttXgbXbkzRDT5fb3w0Zhq9ab2A6rfjErhiPGI82HYNStkmpSQlCDx6yKAWCtYpFghXjx37Uz6fb5Z1H+RU9IjFHY6aL/Y2cb630YltoVDnvjbb5KHr6suXt/opLyEFqaCHRQ/L6BMZhS6LegSFjDB6F5oFcC2RVrWYRpZ6zYNuOp12X0JnysCksfVK677rlP0d1KITQOapLn8przeoFwSRilqBv6+yWQWMs68qhZ7+ecfx4VG3M2puuDnoo9N2X/oGJ24JU7LWzjuh69SdPaWcFTxZtvylPHyQFHPn1nvvo6jSGwSQac7/Wds/fW/mWiQmH2QmzvkGOc7HMBz98Z4u8bIu4zvqPcZWNzomSDagCQhlLuUggqRBgY4+ev+D20AMKq8DFqlZ7b0P8zNDJtPUdCPTyNBNjI9xpjl6bs+l0pWtoNXYekeMKTIY1PDVZS4FQ4o0kIhq5aP7d++iV+Bq5oxW++GsNq+91x82WfpomrEy1jjjdHK+dP30x5xDjCpY2ttaS1K8JsjrylwKeAO8vjRxyW6vfLLahrrP6uVPKz8bygtnz471902llINMnFHZnVALpiDN+MQMbEOToChFBHgNr1eUuxSk0ihmMujo7udfFArraL/TawyBGQBC15ZSffv37zVO2OROJ22tt8KoitfPTaMMhDFlLEkBL4zLX7YJ5SiVIVg201x6n/7a2trCmnhIORbFcNmf7DS+S1EHfZzVbqVpSGWP0/a5Gy0wAyepLtR4Zk6o+V/OfOUpNfRVhs0I4l6nsbYGUhUfouMvv/xg5ckpsGeSVd6op63uO27aBqm4lukbMAONsK9CUvNEDpwo/5gCmcXlxS0Rf7G2WFMsIpr7n/xl5edntV1203RlqNVNOzlYqawf+yrb0PwnjuUzy8uZ8peCYfWkFery18CwWjOura/fX0HzIPXTVw+snZfPd6nBhPukzX7ywoXPJtoAkdn6iEJQ/PqWZSoFe2xZ6egBiqrCWqFYuH3/r4BSd/1t3RgSFywKx8yn97QEoCa77txpmwyhnDxzGl2jYHX8r+9YrlLZYEDgS2Gx6vf7i7Ba1fz9i/UieLgGowvWLapttjmf12rzzT+Vo5X33xCPHQF9QA8ESayQNQY9n/N4S0+MlHENpqC/pqamUFtAZsW1tc8q87ANhY17XvsV+g6o+qEM3P/8PTGiPHqeN7BSmPtgZlUbyMDPWuzVWn8BlisUWg8QVU2huFa8N/u9v1gszuYrQ6BrvVBze+W2WPG9vCYQJMlfF6rylAJ6VhMMeP+7wg11Ff21/ho/NKpBYDC+CoP/yPvXYSo+KE62GYsQ8fPbpY9EWZIPaJ5qp8pVSqeHUp5SpVGIG3rG1tWQERRh6iEs+O/Bg7UCYisUQ8b1dRRv61vXkoEgTzokIgUUOgPJAy1KocxCZkac+42PNuBUiHrRmlp/7fqaGFuwL11fQ6lZU1MsTYkKng8+HVJlKyXT6TS5jFiswenTC+2b8PER/KG61lAiPjQWYGWCAx7DcEI9V22RQo1F8wnAkzz79Beuy1UKDrVBtlw6yji+bW/fVKu/fiS+jjaDoRTsSYvrqzJqzQ8Xh37/kw/ZFwH5dNtZ1lIZraCZEcBWq7DR3t4OuYygu+6bf8JxeL3wsHa1VIxC1OoqJRPLOXxBMS88427lLDXUPDTE5nJB8X1T1Ga7ODbfrOuoq+ioGoOl6UFHxTfiqVTm9OnSRQbg0OmG8jOSkkJZJpC8xxGUAerRo8clqfZiVUVVR1XHGKxN4xUVwxsbmzDUZhfE1bCCZ1n0kQwhrewT3zph4L2wV4dSVMmk/WhVRUVFXUdVQ3Kpo6pqDSXlJpURoYhAMBDQVxPPvld5SxkMQdITyMH4Ks1lmyWpqo6KurqqKhhdnRAKbG6If5RBqKBB43lWQJW9FMFmDbA30gExTjIEDKrHFaX0gz/wCOXk19QjCigUwEvyeoOG129zr/KWAoKuGq5NeNAMG6sFYga6tKFoqqiDCVhRVVd3CNb4jUeweVheQOs9yEo+e+YreykHSWb1fICAFVsxswCnNOqbqo4v0eRXV9VR96+qoxtbJ6pnAIlMs9tBlbsUIARgEHS5oZ92eo3fPv7uu9+L4zHqNglvDn1pdp71CgIh2/ZGZS+FxszC0PdDAuHxektbVhubWwNtFHs9pCboFRzZhR3vIQkpYqGZADlPMOfxBj0CslKAH8Ct0h+9Hj0ZCPAvs0B2dmcrCUihZZ6BJ4OwCgV42DMYgiy5C/x41MAKQo6HTqRBgzb9iG0aKSlJAYVDB1iS1ZD6IJkVCJaFUld1CiFI8jxsoYJBje45d5CKFEB7ewJBGnQvCzJDTvHDv8HuFQfkYV/WB3me3K4vl6QUQJ9DKCCOTkftWgU/3tp9C+QcQNBDvh1mPGlKgdJ/WqJ+iaB2M6vg/u6VJy9hqWeO1VWw+65i16516u5vuUyCUnCgYDKu/rZrpCn1/wwshaWwFJbCUlgKS2EpLIWlsBSWwlJYCkthKSyFpbAUlsJSWApLYSkshaWwFJbCUlgKS2EpLIWlsBSWwlJYCkthKSyFpbAUlsJSWApLYSkshaWwFJbCUlgKS2EpLIWl/ofxHx0dgLFaUTPxAAAAAElFTkSuQmCC)"
      ],
      "metadata": {
        "id": "DtleOeJqFlZz"
      }
    },
    {
      "cell_type": "code",
      "source": [
        ""
      ],
      "metadata": {
        "id": "de_CCMECFJeI"
      },
      "execution_count": null,
      "outputs": []
    }
  ]
}